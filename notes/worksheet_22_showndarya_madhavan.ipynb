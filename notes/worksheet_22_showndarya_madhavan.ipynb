{
 "cells": [
  {
   "cell_type": "markdown",
   "metadata": {},
   "source": [
    "# Worksheet 22\n",
    "\n",
    "Name:  SHOWNDARYA MADHAVAN\n",
    "UID: U10380918\n",
    "\n",
    "### Topics\n",
    "\n",
    "- Networks & Graphs\n",
    "\n",
    "## Networks & Graphs\n",
    "\n",
    "a) For each of the following, give an example of a question about a graph that is faster to answer when the graph is stored as:\n",
    "\n",
    "- an adjacency matrix\n",
    "- an adjacency list"
   ]
  },
  {
   "cell_type": "markdown",
   "metadata": {},
   "source": [
    "- Adjacency matrix: Given a graph with n nodes, what is the degree of node i? This can be answered in O(n) time using an adjacency list (by counting the number of elements in the list corresponding to node i), but in O(1) time using an adjacency matrix (by summing the i-th row or column of the matrix).\n",
    "\n",
    "- Adjacency list: Given a graph with n nodes and m edges, what is the degree of node i? This can be answered in O(1) time using an adjacency list (by returning the length of the list corresponding to node i), but in O(n) time using an adjacency matrix (by summing the i-th row or column of the matrix)."
   ]
  },
  {
   "cell_type": "markdown",
   "metadata": {},
   "source": [
    "b) Load the following graph using the networkx library\n",
    "\n",
    "```\n",
    "A : {B, C}\n",
    "B : {A, D, E}\n",
    "C : {A, F}\n",
    "E : {B, G, H}\n",
    "```\n"
   ]
  },
  {
   "cell_type": "code",
   "execution_count": 6,
   "metadata": {},
   "outputs": [
    {
     "name": "stdout",
     "output_type": "stream",
     "text": [
      "['A', 'B', 'C']\n"
     ]
    }
   ],
   "source": [
    "import networkx as nx\n",
    "\n",
    "G = nx.Graph()\n",
    "G.add_node('A')\n",
    "G.add_nodes_from(['B', 'C'])\n",
    "G.add_edge('A', 'B')\n",
    "\n",
    "print(G.nodes())"
   ]
  },
  {
   "cell_type": "markdown",
   "metadata": {},
   "source": [
    "c) Print the following about the graph:\n",
    "\n",
    "- the diameter\n",
    "- the neighbors of node `A`\n",
    "- the density\n",
    "- degree centrality\n",
    "- closeness centrality\n",
    "- betweenness centrality"
   ]
  },
  {
   "cell_type": "code",
   "execution_count": 8,
   "metadata": {},
   "outputs": [
    {
     "name": "stdout",
     "output_type": "stream",
     "text": [
      "Diameter: 1\n",
      "Neighbors of node A: ['B']\n",
      "Density: 0.3333333333333333\n",
      "Degree centrality: {'A': 0.5, 'B': 0.5, 'C': 0.0}\n",
      "Closeness centrality: {'A': 0.5, 'B': 0.5, 'C': 0.0}\n",
      "Betweenness centrality: {'A': 0.0, 'B': 0.0, 'C': 0.0}\n"
     ]
    }
   ],
   "source": [
    "components = [G.subgraph(c).copy() for c in nx.connected_components(G)]\n",
    "diameters = [nx.diameter(c) for c in components]\n",
    "diameter = max(diameters)\n",
    "\n",
    "print(\"Diameter:\", diameter)\n",
    "print(\"Neighbors of node A:\", list(G.neighbors('A')))\n",
    "print(\"Density:\", nx.density(G))\n",
    "print(\"Degree centrality:\", nx.degree_centrality(G))\n",
    "print(\"Closeness centrality:\", nx.closeness_centrality(G))\n",
    "print(\"Betweenness centrality:\", nx.betweenness_centrality(G))"
   ]
  },
  {
   "cell_type": "markdown",
   "metadata": {},
   "source": [
    "d) What is the Kendall-Tau distance between the following rankings:\n",
    "\n",
    "\n",
    "|   | R_1 | R_2 |\n",
    "|---|-----|-----|\n",
    "| A | 1   |  5  |\n",
    "| B | 2   |  6  |\n",
    "| C | 3   |  7  |\n",
    "| D | 4   |  4  |\n",
    "| E | 5   |  1  |\n",
    "| F | 6   |  2  |\n",
    "| G | 7   |  3  |"
   ]
  },
  {
   "cell_type": "markdown",
   "metadata": {},
   "source": [
    "KendallTauDistance = (number of concordant pairs - number of discordant pairs) / (total number of pairs)"
   ]
  },
  {
   "cell_type": "code",
   "execution_count": 21,
   "metadata": {},
   "outputs": [
    {
     "name": "stdout",
     "output_type": "stream",
     "text": [
      "Kendall-Tau distance: -0.42857142857142855\n"
     ]
    }
   ],
   "source": [
    "R_1= [1, 2, 3, 4, 5, 6, 7]\n",
    "R_2= [5, 6, 7, 4, 1, 2, 3]\n",
    "discordant_pairs = 0\n",
    "concordant_pairs = 0\n",
    "for i in range(len(R_1)):\n",
    "    for j in range(i+1, len(R_1)):\n",
    "        if (R_1[i] < R_1[j] and R_2[i] > R_2[j]) or (R_1[i] > R_1[j] and R_2[i] < R_2[j]):\n",
    "            discordant_pairs += 1\n",
    "        elif (R_1[i] < R_1[j] and R_2[i] < R_2[j]) or (R_1[i] > R_1[j] and R_2[i] > R_2[j]):\n",
    "            concordant_pairs += 1\n",
    "n = len(R_1)\n",
    "total_pairs = n * (n-1) / 2\n",
    "print(\"Kendall-Tau distance: \"+str((concordant_pairs - discordant_pairs) / total_pairs))"
   ]
  },
  {
   "cell_type": "code",
   "execution_count": 22,
   "metadata": {},
   "outputs": [
    {
     "name": "stdout",
     "output_type": "stream",
     "text": [
      "Kendall-Tau distance: -0.4285714285714286\n"
     ]
    }
   ],
   "source": [
    "from scipy.stats import kendalltau\n",
    "\n",
    "R1 = ['A', 'B', 'C', 'D', 'E', 'F', 'G']\n",
    "R2 = ['E', 'F', 'G', 'D', 'A', 'B', 'C']\n",
    "tau, p_value = kendalltau(R1, R2)\n",
    "print(\"Kendall-Tau distance:\", tau)"
   ]
  }
 ],
 "metadata": {
  "kernelspec": {
   "display_name": "Python 3 (ipykernel)",
   "language": "python",
   "name": "python3"
  },
  "language_info": {
   "codemirror_mode": {
    "name": "ipython",
    "version": 3
   },
   "file_extension": ".py",
   "mimetype": "text/x-python",
   "name": "python",
   "nbconvert_exporter": "python",
   "pygments_lexer": "ipython3",
   "version": "3.9.13"
  },
  "vscode": {
   "interpreter": {
    "hash": "e7370f93d1d0cde622a1f8e1c04877d8463912d04d973331ad4851f04de6915a"
   }
  }
 },
 "nbformat": 4,
 "nbformat_minor": 2
}
